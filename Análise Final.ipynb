{
 "cells": [
  {
   "cell_type": "code",
   "execution_count": null,
   "metadata": {},
   "outputs": [],
   "source": [
    "import liora"
   ]
  },
  {
   "cell_type": "code",
   "execution_count": null,
   "metadata": {},
   "outputs": [],
   "source": [
    "df_2019 = liora.carregar_df_2019()\n",
    "df_2020 =liora.carregar_df_2020()\n",
    "df_2021 =liora.carregar_df_2021()"
   ]
  },
  {
   "cell_type": "markdown",
   "metadata": {},
   "source": [
    "## 1. Como se comportam os gastos com cotas parlamentares ao longo do tempo? Existe alguma tendência de aumento ou redução desse custo?"
   ]
  },
  {
   "cell_type": "markdown",
   "metadata": {},
   "source": [
    "Nesse gráfico..."
   ]
  },
  {
   "cell_type": "code",
   "execution_count": null,
   "metadata": {},
   "outputs": [],
   "source": [
    "fig, ax = plt.subplots()\n",
    "fig.patch.set_facecolor('white')\n",
    "\n",
    "analise_por_mes.vlrDocumento.plot(style='-o', ax=ax, figsize=(16, 9), ms=5)\n",
    "\n",
    "indices = analise_por_mes.index.to_frame()\n",
    "indices = indices.numMes.astype(str) + '/' + indices.numAno.astype(str)\n",
    "indices = indices.to_numpy()\n",
    "indices = utils.formatar_datas_para_rotulo(pd.Series(indices))\n",
    "\n",
    "min_y, max_y = utils.gerar_limites_eixo_y(\n",
    "    analise_por_mes.vlrDocumento.to_numpy())\n",
    "yticks = np.linspace(minimo, maximo, 7)\n",
    "\n",
    "ax.set_xticks(range(len(indices)))\n",
    "ax.set_xticklabels(indices, rotation=90)\n",
    "ax.grid(color=(1, 0.2, 0.5, 0.3), linestyle=':', linewidth=0.25)\n",
    "ax.set_ylim([min_y, max_y])\n",
    "ax.set_xlabel('Mês-Ano', fontsize=15)\n",
    "ax.set_ylabel(\n",
    "    'Gastos De Todos os Deputados no Período entre 01/2019 e 08/2021', fontsize=15)\n",
    "\n",
    "ax.set_yticks(yticks)\n",
    "\n",
    "yticks = [f'R$ {x/1000000}M' for x in yticks]\n",
    "ax.set_yticklabels(yticks)\n",
    "\n",
    "valores = analise_por_mes.vlrDocumento.to_numpy()\n",
    "valores = np.concatenate(([max_y], valores, [max_y]))\n",
    "\n",
    "direcao_desvio = np.sign(np.diff(valores))\n",
    "direcao_desvio[[2, 19, 21, 22, 27]] = -1\n",
    "direcao_desvio[[10, 11, 14, 20, 26, 29, 30]] = 1\n",
    "desvios = direcao_desvio * (max_y/30)\n",
    "\n",
    "interate = zip(desvios, analise_por_mes.vlrDocumento.to_numpy())\n",
    "\n",
    "\n",
    "for eixo_x, (desvio_y, valor) in enumerate(interate):\n",
    "    valor_sem_resto = valor - (valor % (base/100))\n",
    "    coordenadas = (eixo_x, valor_sem_resto + desvio_y)\n",
    "    ax.annotate(f'{(valor_sem_resto/base):4.2f}M',\n",
    "                coordenadas, fontsize=8, ha='center')\n",
    "\n",
    "plt.savefig('Gasto Total sem Barra Vertical.png', dpi=150, bbox_inches='tight')\n",
    "plt.bar([23, 15], [max_y, max_y], color=['#ffcccc', '#ccffcc'])\n",
    "plt.savefig('Gasto Total com Barra Vertical.png', dpi=150, bbox_inches='tight')\n",
    "plt.show()"
   ]
  },
  {
   "cell_type": "markdown",
   "metadata": {},
   "source": [
    "## 4. Quais são as categorias de despesas mais onerosas dentre os recursos destinados às cotas parlamentares?"
   ]
  },
  {
   "cell_type": "code",
   "execution_count": null,
   "metadata": {},
   "outputs": [],
   "source": [
    "liora.categoria_despesa_onerosa(df_2019)\n",
    "liora.categoria_despesa_onerosa(df_2020)\n",
    "liora.categoria_despesa_onerosa(df_2021)"
   ]
  },
  {
   "cell_type": "markdown",
   "metadata": {},
   "source": [
    "## 5. Quais são os trechos de viagem mais recorrentes entre as despesas de viagem?"
   ]
  },
  {
   "cell_type": "code",
   "execution_count": null,
   "metadata": {},
   "outputs": [],
   "source": [
    "liora.trecho_viagem_recorrente(df_2019)\n",
    "liora.trecho_viagem_recorrente(df_2020)\n",
    "liora.trecho_viagem_recorrente(df_2021)"
   ]
  },
  {
   "cell_type": "code",
   "execution_count": null,
   "metadata": {},
   "outputs": [],
   "source": [
    "import odilon"
   ]
  },
  {
   "cell_type": "markdown",
   "metadata": {},
   "source": [
    "## 7. Qual é o valor total de gastos por estado?"
   ]
  },
  {
   "cell_type": "code",
   "execution_count": null,
   "metadata": {},
   "outputs": [],
   "source": [
    "odilon.valor_total_de_gasto_estado(df_2019)\n",
    "odilon.valor_total_de_gasto_estado(df_2020)\n",
    "odilon.valor_total_de_gasto_estado(df_2021)\n"
   ]
  },
  {
   "cell_type": "markdown",
   "metadata": {},
   "source": [
    "## 8. Quais estados possuem maior numero de representantes ?"
   ]
  },
  {
   "cell_type": "code",
   "execution_count": null,
   "metadata": {},
   "outputs": [],
   "source": [
    "odilon.quantidade_representantes_por_estado(df_2019)\n",
    "odilon.quantidade_representantes_por_estado(df_2020)\n",
    "odilon.quantidade_representantes_por_estado(df_2021)\n"
   ]
  },
  {
   "cell_type": "markdown",
   "metadata": {},
   "source": [
    "## 9. Há alguma correlação entre a quantidade de parlamentares por estado e o valor total dos gastos ?"
   ]
  },
  {
   "cell_type": "markdown",
   "metadata": {},
   "source": [
    "Nesses gráficos..."
   ]
  },
  {
   "cell_type": "code",
   "execution_count": null,
   "metadata": {},
   "outputs": [],
   "source": [
    "odilon.gráfico_correlacao_parlamentar_gastoporestado(df_2019)\n",
    "odilon.gráfico_correlacao_parlamentar_gastoporestado(df_2020)\n",
    "odilon.gráfico_correlacao_parlamentar_gastoporestado(df_2021)"
   ]
  },
  {
   "cell_type": "markdown",
   "metadata": {},
   "source": []
  }
 ],
 "metadata": {
  "language_info": {
   "name": "python"
  },
  "orig_nbformat": 4
 },
 "nbformat": 4,
 "nbformat_minor": 2
}
